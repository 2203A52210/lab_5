{
  "nbformat": 4,
  "nbformat_minor": 0,
  "metadata": {
    "colab": {
      "provenance": []
    },
    "kernelspec": {
      "name": "python3",
      "display_name": "Python 3"
    },
    "language_info": {
      "name": "python"
    }
  },
  "cells": [
    {
      "cell_type": "code",
      "source": [
        "import pandas as pd\n",
        "a=pd.read_csv(\"/content/archive (5).zip\")\n",
        "print(a)"
      ],
      "metadata": {
        "colab": {
          "base_uri": "https://localhost:8080/"
        },
        "id": "YgdHTqq9_npB",
        "outputId": "d60206cb-beac-4d58-a0ed-29f2457afbd0"
      },
      "execution_count": 2,
      "outputs": [
        {
          "output_type": "stream",
          "name": "stdout",
          "text": [
            "     Age  Gender  Protein1  Protein2  Protein3  Protein4 Tumour_Stage  \\\n",
            "0     42  FEMALE  0.952560   2.15000  0.007972 -0.048340           II   \n",
            "1     54  FEMALE  0.000000   1.38020 -0.498030 -0.507320           II   \n",
            "2     63  FEMALE -0.523030   1.76400 -0.370190  0.010815           II   \n",
            "3     78  FEMALE -0.876180   0.12943 -0.370380  0.132190            I   \n",
            "4     42  FEMALE  0.226110   1.74910 -0.543970 -0.390210           II   \n",
            "..   ...     ...       ...       ...       ...       ...          ...   \n",
            "329   59  FEMALE  0.024598   1.40050  0.024751  0.280320           II   \n",
            "330   41  FEMALE  0.100120  -0.46547  0.472370 -0.523870            I   \n",
            "331   54  FEMALE  0.753820   1.64250 -0.332850  0.857860           II   \n",
            "332   74  FEMALE  0.972510   1.42680 -0.366570 -0.107820           II   \n",
            "333   66  FEMALE  0.286380   1.39980  0.318830  0.836050           II   \n",
            "\n",
            "                          Histology ER status PR status HER2 status  \\\n",
            "0     Infiltrating Ductal Carcinoma  Positive  Positive    Negative   \n",
            "1     Infiltrating Ductal Carcinoma  Positive  Positive    Negative   \n",
            "2     Infiltrating Ductal Carcinoma  Positive  Positive    Negative   \n",
            "3     Infiltrating Ductal Carcinoma  Positive  Positive    Negative   \n",
            "4     Infiltrating Ductal Carcinoma  Positive  Positive    Positive   \n",
            "..                              ...       ...       ...         ...   \n",
            "329   Infiltrating Ductal Carcinoma  Positive  Positive    Positive   \n",
            "330   Infiltrating Ductal Carcinoma  Positive  Positive    Positive   \n",
            "331   Infiltrating Ductal Carcinoma  Positive  Positive    Negative   \n",
            "332  Infiltrating Lobular Carcinoma  Positive  Positive    Negative   \n",
            "333   Infiltrating Ductal Carcinoma  Positive  Positive    Negative   \n",
            "\n",
            "                    Surgery_type Date_of_Surgery Date_of_Last_Visit  \\\n",
            "0                          Other       20-May-18          26-Aug-18   \n",
            "1                          Other       26-Apr-18          25-Jan-19   \n",
            "2                     Lumpectomy       24-Aug-18          08-Apr-20   \n",
            "3                          Other       16-Nov-18          28-Jul-20   \n",
            "4                     Lumpectomy       12-Dec-18          05-Jan-19   \n",
            "..                           ...             ...                ...   \n",
            "329                   Lumpectomy       15-Jan-19          27-Mar-20   \n",
            "330  Modified Radical Mastectomy       25-Jul-18          23-Apr-19   \n",
            "331            Simple Mastectomy       26-Mar-19          11-Oct-19   \n",
            "332                   Lumpectomy       26-Nov-18          05-Dec-18   \n",
            "333  Modified Radical Mastectomy       04-Feb-19          10-Aug-19   \n",
            "\n",
            "    Patient_Status  \n",
            "0            Alive  \n",
            "1             Dead  \n",
            "2            Alive  \n",
            "3            Alive  \n",
            "4            Alive  \n",
            "..             ...  \n",
            "329          Alive  \n",
            "330          Alive  \n",
            "331           Dead  \n",
            "332          Alive  \n",
            "333           Dead  \n",
            "\n",
            "[334 rows x 15 columns]\n"
          ]
        }
      ]
    },
    {
      "cell_type": "code",
      "source": [
        "y=a['Patient_Status']\n",
        "print(y)"
      ],
      "metadata": {
        "colab": {
          "base_uri": "https://localhost:8080/"
        },
        "id": "lhExWForE2KV",
        "outputId": "867405df-f586-4d41-d890-6a3f03328a7c"
      },
      "execution_count": 4,
      "outputs": [
        {
          "output_type": "stream",
          "name": "stdout",
          "text": [
            "0      Alive\n",
            "1       Dead\n",
            "2      Alive\n",
            "3      Alive\n",
            "4      Alive\n",
            "       ...  \n",
            "329    Alive\n",
            "330    Alive\n",
            "331     Dead\n",
            "332    Alive\n",
            "333     Dead\n",
            "Name: Patient_Status, Length: 334, dtype: object\n"
          ]
        }
      ]
    },
    {
      "cell_type": "code",
      "source": [
        "y = y.replace({'Alive':1,'Dead':0})\n",
        "print(y)"
      ],
      "metadata": {
        "colab": {
          "base_uri": "https://localhost:8080/"
        },
        "id": "mnLws_23E2ng",
        "outputId": "e2236fb6-5703-4035-ffa8-8ef7b517d9c7"
      },
      "execution_count": 5,
      "outputs": [
        {
          "output_type": "stream",
          "name": "stdout",
          "text": [
            "0      1.0\n",
            "1      0.0\n",
            "2      1.0\n",
            "3      1.0\n",
            "4      1.0\n",
            "      ... \n",
            "329    1.0\n",
            "330    1.0\n",
            "331    0.0\n",
            "332    1.0\n",
            "333    0.0\n",
            "Name: Patient_Status, Length: 334, dtype: float64\n"
          ]
        }
      ]
    },
    {
      "cell_type": "code",
      "source": [
        "x=a.drop('Patient_Status',axis=1)\n",
        "print(x)"
      ],
      "metadata": {
        "colab": {
          "base_uri": "https://localhost:8080/"
        },
        "id": "QrlVTTHNE2-P",
        "outputId": "64166e0e-c30a-45f4-e704-a56b01eb8417"
      },
      "execution_count": 6,
      "outputs": [
        {
          "output_type": "stream",
          "name": "stdout",
          "text": [
            "     Age  Gender  Protein1  Protein2  Protein3  Protein4 Tumour_Stage  \\\n",
            "0     42  FEMALE  0.952560   2.15000  0.007972 -0.048340           II   \n",
            "1     54  FEMALE  0.000000   1.38020 -0.498030 -0.507320           II   \n",
            "2     63  FEMALE -0.523030   1.76400 -0.370190  0.010815           II   \n",
            "3     78  FEMALE -0.876180   0.12943 -0.370380  0.132190            I   \n",
            "4     42  FEMALE  0.226110   1.74910 -0.543970 -0.390210           II   \n",
            "..   ...     ...       ...       ...       ...       ...          ...   \n",
            "329   59  FEMALE  0.024598   1.40050  0.024751  0.280320           II   \n",
            "330   41  FEMALE  0.100120  -0.46547  0.472370 -0.523870            I   \n",
            "331   54  FEMALE  0.753820   1.64250 -0.332850  0.857860           II   \n",
            "332   74  FEMALE  0.972510   1.42680 -0.366570 -0.107820           II   \n",
            "333   66  FEMALE  0.286380   1.39980  0.318830  0.836050           II   \n",
            "\n",
            "                          Histology ER status PR status HER2 status  \\\n",
            "0     Infiltrating Ductal Carcinoma  Positive  Positive    Negative   \n",
            "1     Infiltrating Ductal Carcinoma  Positive  Positive    Negative   \n",
            "2     Infiltrating Ductal Carcinoma  Positive  Positive    Negative   \n",
            "3     Infiltrating Ductal Carcinoma  Positive  Positive    Negative   \n",
            "4     Infiltrating Ductal Carcinoma  Positive  Positive    Positive   \n",
            "..                              ...       ...       ...         ...   \n",
            "329   Infiltrating Ductal Carcinoma  Positive  Positive    Positive   \n",
            "330   Infiltrating Ductal Carcinoma  Positive  Positive    Positive   \n",
            "331   Infiltrating Ductal Carcinoma  Positive  Positive    Negative   \n",
            "332  Infiltrating Lobular Carcinoma  Positive  Positive    Negative   \n",
            "333   Infiltrating Ductal Carcinoma  Positive  Positive    Negative   \n",
            "\n",
            "                    Surgery_type Date_of_Surgery Date_of_Last_Visit  \n",
            "0                          Other       20-May-18          26-Aug-18  \n",
            "1                          Other       26-Apr-18          25-Jan-19  \n",
            "2                     Lumpectomy       24-Aug-18          08-Apr-20  \n",
            "3                          Other       16-Nov-18          28-Jul-20  \n",
            "4                     Lumpectomy       12-Dec-18          05-Jan-19  \n",
            "..                           ...             ...                ...  \n",
            "329                   Lumpectomy       15-Jan-19          27-Mar-20  \n",
            "330  Modified Radical Mastectomy       25-Jul-18          23-Apr-19  \n",
            "331            Simple Mastectomy       26-Mar-19          11-Oct-19  \n",
            "332                   Lumpectomy       26-Nov-18          05-Dec-18  \n",
            "333  Modified Radical Mastectomy       04-Feb-19          10-Aug-19  \n",
            "\n",
            "[334 rows x 14 columns]\n"
          ]
        }
      ]
    },
    {
      "cell_type": "code",
      "source": [
        "x['Gender'] = x['Gender'].replace({'FEMALE': 1,'MALE':0})\n",
        "print(x)"
      ],
      "metadata": {
        "colab": {
          "base_uri": "https://localhost:8080/"
        },
        "id": "1S6ynnSuE3Xb",
        "outputId": "faff6c07-0ae1-4524-a992-56ec6299293b"
      },
      "execution_count": 7,
      "outputs": [
        {
          "output_type": "stream",
          "name": "stdout",
          "text": [
            "     Age  Gender  Protein1  Protein2  Protein3  Protein4 Tumour_Stage  \\\n",
            "0     42       1  0.952560   2.15000  0.007972 -0.048340           II   \n",
            "1     54       1  0.000000   1.38020 -0.498030 -0.507320           II   \n",
            "2     63       1 -0.523030   1.76400 -0.370190  0.010815           II   \n",
            "3     78       1 -0.876180   0.12943 -0.370380  0.132190            I   \n",
            "4     42       1  0.226110   1.74910 -0.543970 -0.390210           II   \n",
            "..   ...     ...       ...       ...       ...       ...          ...   \n",
            "329   59       1  0.024598   1.40050  0.024751  0.280320           II   \n",
            "330   41       1  0.100120  -0.46547  0.472370 -0.523870            I   \n",
            "331   54       1  0.753820   1.64250 -0.332850  0.857860           II   \n",
            "332   74       1  0.972510   1.42680 -0.366570 -0.107820           II   \n",
            "333   66       1  0.286380   1.39980  0.318830  0.836050           II   \n",
            "\n",
            "                          Histology ER status PR status HER2 status  \\\n",
            "0     Infiltrating Ductal Carcinoma  Positive  Positive    Negative   \n",
            "1     Infiltrating Ductal Carcinoma  Positive  Positive    Negative   \n",
            "2     Infiltrating Ductal Carcinoma  Positive  Positive    Negative   \n",
            "3     Infiltrating Ductal Carcinoma  Positive  Positive    Negative   \n",
            "4     Infiltrating Ductal Carcinoma  Positive  Positive    Positive   \n",
            "..                              ...       ...       ...         ...   \n",
            "329   Infiltrating Ductal Carcinoma  Positive  Positive    Positive   \n",
            "330   Infiltrating Ductal Carcinoma  Positive  Positive    Positive   \n",
            "331   Infiltrating Ductal Carcinoma  Positive  Positive    Negative   \n",
            "332  Infiltrating Lobular Carcinoma  Positive  Positive    Negative   \n",
            "333   Infiltrating Ductal Carcinoma  Positive  Positive    Negative   \n",
            "\n",
            "                    Surgery_type Date_of_Surgery Date_of_Last_Visit  \n",
            "0                          Other       20-May-18          26-Aug-18  \n",
            "1                          Other       26-Apr-18          25-Jan-19  \n",
            "2                     Lumpectomy       24-Aug-18          08-Apr-20  \n",
            "3                          Other       16-Nov-18          28-Jul-20  \n",
            "4                     Lumpectomy       12-Dec-18          05-Jan-19  \n",
            "..                           ...             ...                ...  \n",
            "329                   Lumpectomy       15-Jan-19          27-Mar-20  \n",
            "330  Modified Radical Mastectomy       25-Jul-18          23-Apr-19  \n",
            "331            Simple Mastectomy       26-Mar-19          11-Oct-19  \n",
            "332                   Lumpectomy       26-Nov-18          05-Dec-18  \n",
            "333  Modified Radical Mastectomy       04-Feb-19          10-Aug-19  \n",
            "\n",
            "[334 rows x 14 columns]\n"
          ]
        }
      ]
    },
    {
      "cell_type": "code",
      "source": [
        "x['ER status'] = x['ER status'].replace({'Positive': 1, 'Negative' : 0})\n",
        "x['HER2 status'] = x['HER2 status'].replace({'Positive': 1, 'Negative' : 0})\n",
        "x['PR status'] = x['PR status'].replace({'Positive': 1, 'Negative' : 0})\n",
        "print(x)"
      ],
      "metadata": {
        "colab": {
          "base_uri": "https://localhost:8080/"
        },
        "id": "dyExn0PpE3sN",
        "outputId": "37cd3450-d320-4b7f-9b11-72eb1fa6e285"
      },
      "execution_count": 8,
      "outputs": [
        {
          "output_type": "stream",
          "name": "stdout",
          "text": [
            "     Age  Gender  Protein1  Protein2  Protein3  Protein4 Tumour_Stage  \\\n",
            "0     42       1  0.952560   2.15000  0.007972 -0.048340           II   \n",
            "1     54       1  0.000000   1.38020 -0.498030 -0.507320           II   \n",
            "2     63       1 -0.523030   1.76400 -0.370190  0.010815           II   \n",
            "3     78       1 -0.876180   0.12943 -0.370380  0.132190            I   \n",
            "4     42       1  0.226110   1.74910 -0.543970 -0.390210           II   \n",
            "..   ...     ...       ...       ...       ...       ...          ...   \n",
            "329   59       1  0.024598   1.40050  0.024751  0.280320           II   \n",
            "330   41       1  0.100120  -0.46547  0.472370 -0.523870            I   \n",
            "331   54       1  0.753820   1.64250 -0.332850  0.857860           II   \n",
            "332   74       1  0.972510   1.42680 -0.366570 -0.107820           II   \n",
            "333   66       1  0.286380   1.39980  0.318830  0.836050           II   \n",
            "\n",
            "                          Histology  ER status  PR status  HER2 status  \\\n",
            "0     Infiltrating Ductal Carcinoma          1          1            0   \n",
            "1     Infiltrating Ductal Carcinoma          1          1            0   \n",
            "2     Infiltrating Ductal Carcinoma          1          1            0   \n",
            "3     Infiltrating Ductal Carcinoma          1          1            0   \n",
            "4     Infiltrating Ductal Carcinoma          1          1            1   \n",
            "..                              ...        ...        ...          ...   \n",
            "329   Infiltrating Ductal Carcinoma          1          1            1   \n",
            "330   Infiltrating Ductal Carcinoma          1          1            1   \n",
            "331   Infiltrating Ductal Carcinoma          1          1            0   \n",
            "332  Infiltrating Lobular Carcinoma          1          1            0   \n",
            "333   Infiltrating Ductal Carcinoma          1          1            0   \n",
            "\n",
            "                    Surgery_type Date_of_Surgery Date_of_Last_Visit  \n",
            "0                          Other       20-May-18          26-Aug-18  \n",
            "1                          Other       26-Apr-18          25-Jan-19  \n",
            "2                     Lumpectomy       24-Aug-18          08-Apr-20  \n",
            "3                          Other       16-Nov-18          28-Jul-20  \n",
            "4                     Lumpectomy       12-Dec-18          05-Jan-19  \n",
            "..                           ...             ...                ...  \n",
            "329                   Lumpectomy       15-Jan-19          27-Mar-20  \n",
            "330  Modified Radical Mastectomy       25-Jul-18          23-Apr-19  \n",
            "331            Simple Mastectomy       26-Mar-19          11-Oct-19  \n",
            "332                   Lumpectomy       26-Nov-18          05-Dec-18  \n",
            "333  Modified Radical Mastectomy       04-Feb-19          10-Aug-19  \n",
            "\n",
            "[334 rows x 14 columns]\n"
          ]
        }
      ]
    },
    {
      "cell_type": "code",
      "source": [
        "d4=x.drop('Histology',axis=1)\n",
        "d1=d4.drop('Tumour_Stage',axis=1)\n",
        "d2=d1.drop('Surgery_type',axis=1)\n",
        "d3=d2.drop('Date_of_Surgery',axis=1)\n",
        "d=d3.drop('Date_of_Last_Visit',axis=1)\n",
        "print(d)"
      ],
      "metadata": {
        "colab": {
          "base_uri": "https://localhost:8080/"
        },
        "id": "WEOv4ZrFE4D4",
        "outputId": "754ea9fe-4e36-4d22-c848-d779d3d485f6"
      },
      "execution_count": 9,
      "outputs": [
        {
          "output_type": "stream",
          "name": "stdout",
          "text": [
            "     Age  Gender  Protein1  Protein2  Protein3  Protein4  ER status  \\\n",
            "0     42       1  0.952560   2.15000  0.007972 -0.048340          1   \n",
            "1     54       1  0.000000   1.38020 -0.498030 -0.507320          1   \n",
            "2     63       1 -0.523030   1.76400 -0.370190  0.010815          1   \n",
            "3     78       1 -0.876180   0.12943 -0.370380  0.132190          1   \n",
            "4     42       1  0.226110   1.74910 -0.543970 -0.390210          1   \n",
            "..   ...     ...       ...       ...       ...       ...        ...   \n",
            "329   59       1  0.024598   1.40050  0.024751  0.280320          1   \n",
            "330   41       1  0.100120  -0.46547  0.472370 -0.523870          1   \n",
            "331   54       1  0.753820   1.64250 -0.332850  0.857860          1   \n",
            "332   74       1  0.972510   1.42680 -0.366570 -0.107820          1   \n",
            "333   66       1  0.286380   1.39980  0.318830  0.836050          1   \n",
            "\n",
            "     PR status  HER2 status  \n",
            "0            1            0  \n",
            "1            1            0  \n",
            "2            1            0  \n",
            "3            1            0  \n",
            "4            1            1  \n",
            "..         ...          ...  \n",
            "329          1            1  \n",
            "330          1            1  \n",
            "331          1            0  \n",
            "332          1            0  \n",
            "333          1            0  \n",
            "\n",
            "[334 rows x 9 columns]\n"
          ]
        }
      ]
    },
    {
      "cell_type": "code",
      "source": [
        "from sklearn.preprocessing import MinMaxScaler\n",
        "scaler=MinMaxScaler(feature_range=(0,1))\n",
        "xtrain_norm=scaler.fit_transform(d)\n",
        "print(xtrain_norm)"
      ],
      "metadata": {
        "colab": {
          "base_uri": "https://localhost:8080/"
        },
        "id": "iV_ter-MFW5X",
        "outputId": "ab9a6c20-44ca-40a5-c3be-38a0c1858e06"
      },
      "execution_count": 10,
      "outputs": [
        {
          "output_type": "stream",
          "name": "stdout",
          "text": [
            "[[0.21311475 1.         0.83707205 ... 0.         0.         0.        ]\n",
            " [0.40983607 1.         0.59496759 ... 0.         0.         0.        ]\n",
            " [0.55737705 1.         0.4620333  ... 0.         0.         0.        ]\n",
            " ...\n",
            " [0.40983607 1.         0.78655992 ... 0.         0.         0.        ]\n",
            " [0.73770492 1.         0.84214258 ... 0.         0.         0.        ]\n",
            " [0.60655738 1.         0.66775448 ... 0.         0.         0.        ]]\n"
          ]
        }
      ]
    },
    {
      "cell_type": "code",
      "source": [
        "from sklearn.model_selection import train_test_split"
      ],
      "metadata": {
        "id": "_g0APy69Fs_T"
      },
      "execution_count": 11,
      "outputs": []
    },
    {
      "cell_type": "code",
      "source": [
        "x_train,x_test,y_train,y_test=train_test_split(xtrain_norm,y,test_size=0.3)"
      ],
      "metadata": {
        "id": "Hqx7WRhfFuRX"
      },
      "execution_count": 12,
      "outputs": []
    },
    {
      "cell_type": "code",
      "source": [
        "print(x_train)"
      ],
      "metadata": {
        "colab": {
          "base_uri": "https://localhost:8080/"
        },
        "id": "61HahlshFxpg",
        "outputId": "3d326cca-7d83-4fc3-ce7c-6d01ce33eaee"
      },
      "execution_count": 13,
      "outputs": [
        {
          "output_type": "stream",
          "name": "stdout",
          "text": [
            "[[0.3442623  1.         0.53136866 ... 0.         0.         0.        ]\n",
            " [0.55737705 1.         0.44164697 ... 0.         0.         0.        ]\n",
            " [0.27868852 1.         0.61913915 ... 0.         0.         0.        ]\n",
            " ...\n",
            " [0.31147541 1.         0.65402211 ... 0.         0.         0.        ]\n",
            " [0.52459016 1.         0.41210573 ... 0.         0.         0.        ]\n",
            " [0.27868852 1.         0.65258356 ... 0.         0.         0.        ]]\n"
          ]
        }
      ]
    },
    {
      "cell_type": "code",
      "source": [
        "print(y_train)"
      ],
      "metadata": {
        "colab": {
          "base_uri": "https://localhost:8080/"
        },
        "id": "peRTzeu0F34N",
        "outputId": "fdb6e007-d79b-4d1b-ed90-bdc89fb79a2a"
      },
      "execution_count": 14,
      "outputs": [
        {
          "output_type": "stream",
          "name": "stdout",
          "text": [
            "90     1.0\n",
            "115    1.0\n",
            "287    1.0\n",
            "324    1.0\n",
            "3      1.0\n",
            "      ... \n",
            "130    1.0\n",
            "97     0.0\n",
            "238    1.0\n",
            "146    0.0\n",
            "87     1.0\n",
            "Name: Patient_Status, Length: 233, dtype: float64\n"
          ]
        }
      ]
    },
    {
      "cell_type": "code",
      "source": [
        "print(x_test)"
      ],
      "metadata": {
        "colab": {
          "base_uri": "https://localhost:8080/"
        },
        "id": "I0WrgwZMF93B",
        "outputId": "e1327f41-33a5-441e-a52b-6cd94d0f57d9"
      },
      "execution_count": 15,
      "outputs": [
        {
          "output_type": "stream",
          "name": "stdout",
          "text": [
            "[[0.         1.         0.56810776 0.43739571 0.26321974 0.60509657\n",
            "  0.         0.         0.        ]\n",
            " [0.3442623  1.         0.62952599 0.64078403 0.22465452 0.47846747\n",
            "  0.         0.         0.        ]\n",
            " [0.78688525 1.         0.46068878 0.2614171  0.4571451  0.435531\n",
            "  0.         0.         0.        ]\n",
            " [0.63934426 1.         0.5288855  0.41981269 0.44601445 0.60518685\n",
            "  0.         0.         0.        ]\n",
            " [0.81967213 1.         0.78046512 0.58319352 0.38377041 0.48426164\n",
            "  0.         0.         0.        ]\n",
            " [0.39344262 1.         0.50304994 0.82980783 0.506462   0.60987033\n",
            "  0.         0.         0.        ]\n",
            " [0.54098361 1.         0.6215631  0.38382946 0.34768111 0.71853422\n",
            "  0.         0.         0.        ]\n",
            " [0.47540984 1.         0.4740704  0.32148653 0.27186453 0.73070799\n",
            "  0.         0.         0.        ]\n",
            " [0.47540984 1.         0.68589147 0.57011411 0.34556637 0.67345571\n",
            "  0.         0.         0.        ]\n",
            " [0.49180328 1.         0.60121947 0.54308788 0.4324097  0.63079827\n",
            "  0.         0.         1.        ]\n",
            " [0.50819672 1.         0.64799085 0.09534505 0.75007852 0.81859988\n",
            "  0.         0.         0.        ]\n",
            " [0.52459016 1.         0.4917982  0.85142424 0.27009527 0.7774498\n",
            "  0.         0.         0.        ]\n",
            " [0.26229508 1.         0.70308298 0.5116562  0.2375     0.23565137\n",
            "  0.         0.         0.        ]\n",
            " [0.55737705 1.         0.82451137 0.67258094 0.218962   0.81746184\n",
            "  0.         0.         0.        ]\n",
            " [0.21311475 1.         0.83707205 0.71417028 0.42801811 0.54088745\n",
            "  0.         0.         0.        ]\n",
            " [0.16393443 1.         0.54325327 0.47397014 0.4137678  0.54176178\n",
            "  0.         0.         0.        ]\n",
            " [0.37704918 1.         0.8720549  0.85477969 0.28020048 0.42393172\n",
            "  0.         0.         0.        ]\n",
            " [0.44262295 1.         0.53688398 0.52247582 0.27118666 0.57777918\n",
            "  0.         0.         0.        ]\n",
            " [0.70491803 1.         0.48746219 0.31089974 0.53506857 0.52997811\n",
            "  0.         0.         0.        ]\n",
            " [0.67213115 1.         0.77295463 0.44561315 0.34834328 0.58297587\n",
            "  0.         0.         0.        ]\n",
            " [0.54098361 1.         0.79474139 0.40794534 0.53645572 0.51476719\n",
            "  0.         0.         0.        ]\n",
            " [0.50819672 1.         0.64884229 0.57205434 0.31875785 0.55437915\n",
            "  0.         0.         0.        ]\n",
            " [0.57377049 1.         0.50889312 0.07698365 0.85974142 0.43898889\n",
            "  0.         0.         0.        ]\n",
            " [0.3442623  1.         1.         0.60579146 0.41596995 0.81243092\n",
            "  0.         0.         0.        ]\n",
            " [0.3442623  1.         0.6100643  0.60517516 0.31701476 0.63657329\n",
            "  0.         0.         0.        ]\n",
            " [0.47540984 1.         0.27256322 0.24763235 0.72304229 0.4460743\n",
            "  0.         0.         0.        ]\n",
            " [0.42622951 1.         0.67900369 0.41687496 0.29646671 0.5859988\n",
            "  0.         0.         0.        ]\n",
            " [0.32786885 1.         0.52199771 0.37300071 0.39999398 0.29736828\n",
            "  0.         0.         0.        ]\n",
            " [0.52459016 1.         0.40210954 0.23751053 0.37191688 0.21464135\n",
            "  0.         0.         0.        ]\n",
            " [0.52459016 1.         0.21697801 0.3030772  0.25255967 0.60479838\n",
            "  0.         0.         0.        ]\n",
            " [0.40983607 1.         0.38755877 0.07835779 0.77609401 0.43744597\n",
            "  0.         0.         0.        ]\n",
            " [0.6557377  1.         0.4706748  0.76630533 0.30368247 0.58073261\n",
            "  0.         0.         0.        ]\n",
            " [0.21311475 1.         0.48083873 0.05902171 0.39671535 0.54454424\n",
            "  0.         0.         1.        ]\n",
            " [0.44262295 1.         0.5295209  0.40759382 0.29266907 0.54465038\n",
            "  0.         0.         0.        ]\n",
            " [0.86885246 1.         0.3467175  0.10936719 0.59813128 0.35773103\n",
            "  0.         0.         0.        ]\n",
            " [0.36065574 1.         0.64265345 0.83147414 0.7388505  0.60510478\n",
            "  0.         0.         0.        ]\n",
            " [0.27868852 1.         0.78960986 0.34302762 0.38479638 0.59347814\n",
            "  0.         0.         0.        ]\n",
            " [0.26229508 1.         0.44369551 0.14567455 0.5422791  0.76018493\n",
            "  0.         0.         0.        ]\n",
            " [0.42622951 1.         0.42635151 0.66582438 0.2229978  0.48198282\n",
            "  0.         0.         0.        ]\n",
            " [0.52459016 1.         0.64283136 0.18754465 0.27940745 0.39003939\n",
            "  0.         0.         0.        ]\n",
            " [0.13114754 1.         0.66991994 0.53441393 0.6071451  0.66628002\n",
            "  0.         0.         0.        ]\n",
            " [0.31147541 1.         0.49807345 0.11508287 0.57440327 0.4701428\n",
            "  0.         0.         0.        ]\n",
            " [0.6557377  1.         0.40236625 0.14629999 0.57286694 0.61109591\n",
            "  0.         0.         0.        ]\n",
            " [0.54098361 1.         0.66486974 0.42455141 0.29148084 0.54765963\n",
            "  0.         0.         0.        ]\n",
            " [0.40983607 1.         0.72568814 0.60999149 0.38824068 0.83449144\n",
            "  0.         0.         0.        ]\n",
            " [0.39344262 1.         0.66793239 1.         0.33995498 0.61325436\n",
            "  0.         0.         0.        ]\n",
            " [0.47540984 1.         0.50984877 0.42529326 0.21728434 0.64205559\n",
            "  0.         0.         0.        ]\n",
            " [0.39344262 1.         0.5985528  0.06728252 0.56677921 0.75079882\n",
            "  0.         0.         0.        ]\n",
            " [0.37704918 1.         0.54939128 0.57235108 0.38323649 0.78178038\n",
            "  0.         0.         0.        ]\n",
            " [0.29508197 1.         0.62573898 0.40262227 0.37420959 0.65053072\n",
            "  0.         0.         0.        ]\n",
            " [0.52459016 1.         0.53704918 0.63217856 0.22801246 0.75648903\n",
            "  0.         0.         0.        ]\n",
            " [0.47540984 1.         0.45582158 0.29339204 0.27100345 0.45175631\n",
            "  0.         0.         0.        ]\n",
            " [0.68852459 1.         0.68525607 0.67427008 0.42241337 0.70478197\n",
            "  0.         0.         0.        ]\n",
            " [0.3442623  1.         0.55470327 0.71451267 0.20252303 0.70274936\n",
            "  0.         0.         0.        ]\n",
            " [0.83606557 1.         0.76545177 0.06125183 0.47473827 0.59422772\n",
            "  0.         0.         0.        ]\n",
            " [0.37704918 1.         0.6459296  0.72197684 0.25423472 0.77606008\n",
            "  0.         0.         0.        ]\n",
            " [0.59016393 1.         0.57175397 0.23590585 0.435      0.39302675\n",
            "  0.         0.         0.        ]\n",
            " [0.24590164 1.         0.6557555  0.32678678 0.43644211 0.44884554\n",
            "  0.         0.         0.        ]\n",
            " [0.60655738 1.         0.5008184  0.66132762 0.21757747 0.53690349\n",
            "  0.         0.         0.        ]\n",
            " [0.40983607 1.         0.48896683 0.51316273 0.23570718 0.32767686\n",
            "  0.         0.         0.        ]\n",
            " [0.32786885 1.         0.44654467 0.14745956 0.39167975 0.21513377\n",
            "  0.         0.         0.        ]\n",
            " [0.62295082 1.         0.67564367 0.09652745 0.51925513 0.7722356\n",
            "  0.         0.         0.        ]\n",
            " [0.80327869 1.         0.64827297 0.38018412 0.45712678 0.72213711\n",
            "  0.         0.         0.        ]\n",
            " [0.26229508 1.         0.63976617 0.35886216 0.29310092 0.66370575\n",
            "  0.         0.         0.        ]\n",
            " [0.32786885 1.         0.27683314 0.83375676 0.28569933 0.25124473\n",
            "  0.         0.         0.        ]\n",
            " [0.72131148 1.         0.708977   0.74870632 0.4289832  0.72012912\n",
            "  0.         0.         0.        ]\n",
            " [0.27868852 1.         0.72904054 0.08160368 0.28277062 0.66109318\n",
            "  0.         0.         0.        ]\n",
            " [0.63934426 1.         0.44837972 0.52644758 0.44719614 0.44491437\n",
            "  0.         0.         0.        ]\n",
            " [0.73770492 1.         0.54138518 0.         0.14850293 0.32362532\n",
            "  0.         0.         0.        ]\n",
            " [0.40983607 1.         0.52311094 0.36228609 0.3018661  0.72294961\n",
            "  0.         0.         0.        ]\n",
            " [0.2295082  1.         0.70751303 0.54626073 0.18186767 0.58739399\n",
            "  0.         0.         0.        ]\n",
            " [0.49180328 1.         0.51097979 0.5510314  0.26680276 0.45817147\n",
            "  0.         0.         0.        ]\n",
            " [0.7704918  1.         0.37542509 0.19632589 0.44445273 0.75947092\n",
            "  0.         0.         1.        ]\n",
            " [0.3442623  1.         0.62787139 0.1109422  0.50864479 0.39986869\n",
            "  0.         0.         0.        ]\n",
            " [0.39344262 1.         0.57729445 0.54715095 0.33143582 0.66123543\n",
            "  0.         0.         0.        ]\n",
            " [0.75409836 1.         0.09398907 0.07915214 0.43565065 0.42639656\n",
            "  0.         0.         0.        ]\n",
            " [0.78688525 1.         0.55389757 0.55454664 0.22743405 0.75441812\n",
            "  0.         0.         0.        ]\n",
            " [0.09836066 1.         0.38718262 0.63208725 0.15331868 0.56465011\n",
            "  0.         0.         0.        ]\n",
            " [0.36065574 1.         0.61796594 0.07760909 1.         0.32474421\n",
            "  0.         0.         0.        ]\n",
            " [0.54098361 1.         0.6121558  0.50715944 0.44312369 0.45430869\n",
            "  0.         0.         0.        ]\n",
            " [0.49180328 1.         0.66522049 0.02342197 0.76565117 0.36626908\n",
            "  0.         0.         0.        ]\n",
            " [0.3442623  1.         0.51290126 0.44903936 0.34921221 0.48251901\n",
            "  0.         0.         0.        ]\n",
            " [0.49180328 1.         0.71707968 0.36752014 0.24246231 0.50978552\n",
            "  0.         0.         0.        ]\n",
            " [0.73770492 1.         0.58692591 0.7439813  0.42817609 0.40692947\n",
            "  0.         0.         0.        ]\n",
            " [0.78688525 1.         0.51904943 0.18659052 0.54651382 0.44559829\n",
            "  0.         0.         0.        ]\n",
            " [0.40983607 1.         0.67800483 0.15607188 0.88894996 0.76499699\n",
            "  0.         0.         0.        ]\n",
            " [0.40983607 1.         0.70543652 0.78315107 0.5133192  0.72618865\n",
            "  0.         0.         0.        ]\n",
            " [0.31147541 1.         0.50855001 0.26051546 0.37955402 0.66697215\n",
            "  0.         0.         0.        ]\n",
            " [0.27868852 1.         0.59217207 0.42142194 0.49962573 0.4047765\n",
            "  0.         0.         0.        ]\n",
            " [0.83606557 1.         0.59041454 0.43434385 0.41860448 0.62797231\n",
            "  0.         0.         0.        ]\n",
            " [0.6557377  1.         0.64935316 0.52274974 0.34022456 0.49002572\n",
            "  0.         0.         0.        ]\n",
            " [0.90163934 1.         0.633069   0.56404234 0.18205088 0.54777644\n",
            "  0.         0.         0.        ]\n",
            " [0.49180328 1.         0.47624095 0.73167798 0.37058731 0.48755813\n",
            "  0.         0.         0.        ]\n",
            " [0.39344262 1.         0.57222951 0.45922441 0.30084537 0.48489085\n",
            "  0.         0.         0.        ]\n",
            " [0.75409836 1.         0.63859194 0.23017624 0.38434359 0.7386907\n",
            "  0.         0.         0.        ]\n",
            " [0.3442623  1.         0.51221248 0.67762553 0.41594771 0.62319035\n",
            "  0.         0.         0.        ]\n",
            " [0.91803279 1.         0.73172957 0.28756908 0.39807894 0.61966679\n",
            "  0.         0.         0.        ]\n",
            " [0.8852459  1.         0.49508705 0.56025319 0.4635626  0.72946052\n",
            "  0.         0.         0.        ]\n",
            " [0.44262295 1.         0.57844656 0.10733109 0.56192944 0.76725119\n",
            "  0.         0.         0.        ]\n",
            " [0.73770492 1.         0.74607447 0.43994312 0.29550356 0.81994583\n",
            "  0.         0.         0.        ]\n",
            " [0.45901639 1.         0.54063286 0.08002639 0.69357203 0.60949281\n",
            "  0.         0.         1.        ]]\n"
          ]
        }
      ]
    },
    {
      "cell_type": "code",
      "source": [
        "print(y_train)"
      ],
      "metadata": {
        "colab": {
          "base_uri": "https://localhost:8080/"
        },
        "id": "xZtAg_rfF-RM",
        "outputId": "1b8faac4-b54b-4196-99d7-630af50c8585"
      },
      "execution_count": 16,
      "outputs": [
        {
          "output_type": "stream",
          "name": "stdout",
          "text": [
            "90     1.0\n",
            "115    1.0\n",
            "287    1.0\n",
            "324    1.0\n",
            "3      1.0\n",
            "      ... \n",
            "130    1.0\n",
            "97     0.0\n",
            "238    1.0\n",
            "146    0.0\n",
            "87     1.0\n",
            "Name: Patient_Status, Length: 233, dtype: float64\n"
          ]
        }
      ]
    },
    {
      "cell_type": "code",
      "source": [
        "from sklearn.model_selection import train_test_split\n",
        "from sklearn.linear_model import LogisticRegression\n",
        "from sklearn.metrics import accuracy_score"
      ],
      "metadata": {
        "id": "4dmzauKqF-qT"
      },
      "execution_count": 17,
      "outputs": []
    },
    {
      "cell_type": "code",
      "source": [
        "x_train, x_test, y_train, y_test = train_test_split(x, y, test_size=0.2, random_state=42)"
      ],
      "metadata": {
        "id": "UR5YmqB5GOTW"
      },
      "execution_count": null,
      "outputs": []
    },
    {
      "cell_type": "code",
      "source": [
        "import numpy as np\n",
        "def sigmoid(z):\n",
        "    return 1 / (1 + np.exp(-z))\n",
        "\n",
        "# Logistic Regression from scratch\n",
        "def logistic_regression(x, y, learning_rate, num_epochs):\n",
        "    m, n = x.shape\n",
        "    weights = np.zeros(n)\n",
        "    for epoch in range(num_epochs):\n",
        "        y_pred = sigmoid(np.dot(x, weights))\n",
        "        gradient = np.dot(x.T, (y_pred - y)) / m\n",
        "        weights -= learning_rate * gradient\n",
        "    return weights\n",
        "\n",
        "# Generate some sample data\n",
        "np.random.seed(0)\n",
        "x = np.random.randn(100, 2)\n",
        "y = (x[:, 0] + x[:, 1] > 0).astype(int)\n",
        "\n",
        "# Add bias term to features\n",
        "x_bias = np.c_[np.ones((x.shape[0], 1)), x]\n",
        "\n",
        "# Train the logistic regression model\n",
        "learning_rate = 0.01\n",
        "num_epochs = 1000\n",
        "weights = logistic_regression(x_bias, y, learning_rate, num_epochs)\n",
        "\n",
        "# Evaluate accuracy\n",
        "y_pred = sigmoid(np.dot(x_bias, weights))\n",
        "y_pred_class = (y_pred >= 0.5).astype(int)\n",
        "accuracy = np.mean(y_pred_class == y) * 100\n",
        "print(\"Accuracy:\",accuracy)"
      ],
      "metadata": {
        "id": "i_AXV53QGdip",
        "outputId": "eb281488-7a0c-4097-d60b-1029894319fb",
        "colab": {
          "base_uri": "https://localhost:8080/"
        }
      },
      "execution_count": 18,
      "outputs": [
        {
          "output_type": "stream",
          "name": "stdout",
          "text": [
            "Accuracy: 98.0\n"
          ]
        }
      ]
    }
  ]
}